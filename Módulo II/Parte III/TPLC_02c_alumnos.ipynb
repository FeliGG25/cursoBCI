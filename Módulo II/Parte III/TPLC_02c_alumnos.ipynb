{
  "nbformat": 4,
  "nbformat_minor": 0,
  "metadata": {
    "colab": {
      "provenance": []
    },
    "kernelspec": {
      "name": "python3",
      "display_name": "Python 3"
    },
    "language_info": {
      "name": "python"
    }
  },
  "cells": [
    {
      "cell_type": "markdown",
      "metadata": {
        "id": "P2NL0j_hKbE5"
      },
      "source": [
        "#Machine Learning Estadístico para Interfaces Cerebro-Computadora"
      ]
    },
    {
      "cell_type": "markdown",
      "metadata": {
        "id": "A3OvCXt9PsEm"
      },
      "source": [
        "## Trabajo Práctico de Laboratorio de Computación II - Parte III: Filtrado espacial para extracción de características"
      ]
    },
    {
      "cell_type": "markdown",
      "metadata": {
        "id": "u3fxW6T8QQEm"
      },
      "source": [
        "\n",
        "❗Antes de comenzar recordá hacer una copia de este documento de manera que puedas editarlo y guardar los cambios en tu Drive."
      ]
    },
    {
      "cell_type": "markdown",
      "metadata": {
        "id": "YsLVxGYE8SRl"
      },
      "source": [
        "Este TPLC tiene como objetivo que el alumno sea capaz de:\n",
        "1. Afianzar los conocimientos sobre filtrado espacial en el contexto de extracción de características\n",
        "2. Utilizar y comprender el uso de funciones ya implementadas para extraer componentes de máxima discriminabilidad o explicabilidad de la variable objetivo\n",
        "3. Comprender la diferencia de aplicar un método para reducción de dimensionalidad o extracción de características\n"
      ]
    },
    {
      "cell_type": "markdown",
      "metadata": {
        "id": "kOKSkacl9KhC"
      },
      "source": [
        "Es **requisito** para aprobar este curso que esta guía práctica sea completada y enviada para su evaluación. Se aceptan trabajos realizados en forma grupal de *hasta dos alumnos por grupo*."
      ]
    },
    {
      "cell_type": "code",
      "source": [
        "# instalamos MNE\n",
        "!pip install MNE"
      ],
      "metadata": {
        "id": "8XgkJFX_qW0Y"
      },
      "execution_count": null,
      "outputs": []
    },
    {
      "cell_type": "code",
      "source": [
        "# Importamos las bibliotecas y funciones\n",
        "import numpy as np\n",
        "import matplotlib.pyplot as plt\n",
        "from mne.channels import make_standard_montage\n",
        "from mne.io import concatenate_raws, read_raw_edf\n",
        "from mne import Epochs, pick_types, events_from_annotations\n",
        "import mne"
      ],
      "metadata": {
        "id": "Qtmg1R1WISLz"
      },
      "execution_count": null,
      "outputs": []
    },
    {
      "cell_type": "markdown",
      "source": [
        "# Filtrado espacial para extracción de características"
      ],
      "metadata": {
        "id": "ofvdW15A6XdV"
      }
    },
    {
      "cell_type": "markdown",
      "source": [
        "## Patrones Espaciales Comunes (CSP)"
      ],
      "metadata": {
        "id": "2iQST-1_sxnW"
      }
    },
    {
      "cell_type": "markdown",
      "source": [
        "El método de Patrones Espaciales Comunes (CSP) es una técnica de filtrado espacial bien conocida originalmente pensada para problemas de clasificación binaria. Proyecta los datos en un nuevo subespacio en el cual la varianza de una clase se maximiza mientras se minimiza para la otra clase [1]. Dado que la varianza de una señal filtrada en una banda frecuencial es igual a la potencia de banda, es posible extraer características espaciales y de frecuencia específica que permitan luego alimentar un clasificador de aprendizaje automático.\n",
        "\n",
        "En esta práctica nos vamos a centrar en la comprensión de CSP como técnica de reducción de dimensionalidad y extractor de características en el que se maximiza/minimiza la varianza."
      ],
      "metadata": {
        "id": "DZJNMXNf5tW8"
      }
    },
    {
      "cell_type": "markdown",
      "source": [
        "## Los datos"
      ],
      "metadata": {
        "id": "ertnzobzGov0"
      }
    },
    {
      "cell_type": "markdown",
      "source": [
        "Vamos a utilizar la base de datos de imaginería motora de EEGBCI que utilizamos antes, la cual fue originalmente publicada en [2] y consiste en varios experimentos de BCI realizados a la misma persona. En particular en esta Colab vamos utilizar los datos del sujeto 1 durante las rondas correspondientes a la imaginación del movimiento de pies vs manos"
      ],
      "metadata": {
        "id": "aKuPDrNgtSXy"
      }
    },
    {
      "cell_type": "code",
      "source": [
        "from mne.datasets import eegbci\n",
        "event_id = dict(hands=2, feet=3)  # MI: hands vs feet runs\n",
        "# for a given subject\n",
        "subject = 1\n",
        "\n",
        "runs = [6, 10, 14]  # motor imagery: hands vs feet runs\n",
        "\n",
        "raw_fnames = eegbci.load_data(subject, runs)\n",
        "raw = concatenate_raws([read_raw_edf(f, preload=True) for f in raw_fnames])\n",
        "eegbci.standardize(raw)  # set channel names\n",
        "montage = make_standard_montage(\"standard_1005\")\n",
        "raw.set_montage(montage)"
      ],
      "metadata": {
        "id": "lPrlXBtr__y9"
      },
      "execution_count": null,
      "outputs": []
    },
    {
      "cell_type": "markdown",
      "source": [
        "CSP es una técnica supervisada que se basa en la matriz de covarianza promedio entre las pruebas pertenecientes a cada una de las clases. Por lo tanto, primero necesitamos dividir nuestros datos en segmentos (pruebas) de interés. Aquí, vamos a dividir los datos en segmentos de 2 segundos de duración a partir de 0.5 segundos después del inicio de la señal."
      ],
      "metadata": {
        "id": "ID8GNOFFHq-C"
      }
    },
    {
      "cell_type": "code",
      "source": [
        "# before epoching, apply a filter!\n",
        "# Apply band-pass filter to cover the alpha and beta band\n",
        "raw.filter(8.0, 30.0, fir_design=\"firwin\", skip_by_annotation=\"edge\")\n",
        "# select the epoch time\n",
        "tmin, tmax = 0.5, 2.5\n",
        "events, _ = events_from_annotations(raw, event_id=dict(T1=2, T2=3))\n",
        "# T1:hands, T2:feet\n",
        "\n",
        "picks = pick_types(raw.info, meg=False, eeg=True, stim=False, eog=False,\n",
        "                   exclude=\"bads\")\n",
        "# get the epoch object\n",
        "epochs = Epochs(\n",
        "    raw,\n",
        "    events,\n",
        "    event_id,\n",
        "    tmin,\n",
        "    tmax,\n",
        "    proj=True,\n",
        "    picks=picks,\n",
        "    baseline=None,\n",
        "    preload=True,\n",
        ")"
      ],
      "metadata": {
        "id": "prQ2QOQvG2oR"
      },
      "execution_count": null,
      "outputs": []
    },
    {
      "cell_type": "markdown",
      "source": [
        "❓ ¿Por qué elegimos esa ventana de análisis? ¿Por qué filtramos la señal entre 8 y 30 Hz?"
      ],
      "metadata": {
        "id": "cy_bgGeVJV2U"
      }
    },
    {
      "cell_type": "markdown",
      "source": [
        "...."
      ],
      "metadata": {
        "id": "nOgbGX1yJeAd"
      }
    },
    {
      "cell_type": "markdown",
      "source": [
        "Como método supervisado de extracción de características, es muy importante contar con las etiquetas de cada segmento de EEG a analizar. En lo que sigue extraemos los datos y etiquetas del objeto `epochs`"
      ],
      "metadata": {
        "id": "KKzjQl6KIoe4"
      }
    },
    {
      "cell_type": "code",
      "source": [
        "# Get data and labels\n",
        "labels = epochs.events[:, -1]\n",
        "data = epochs.get_data()\n",
        "\n",
        "print(data.shape)\n",
        "print(labels.shape)\n",
        "print(\"Hay %d trials de los cuales %d pertenencen a la clase MI de manos.\" %(len(labels), abs(np.sum(labels==2))))"
      ],
      "metadata": {
        "id": "mr3lh9KxHBdb"
      },
      "execution_count": null,
      "outputs": []
    },
    {
      "cell_type": "markdown",
      "source": [
        "### Implementando CSP"
      ],
      "metadata": {
        "id": "Nfh4yWheJp6e"
      }
    },
    {
      "cell_type": "markdown",
      "source": [
        "Estudiamos la clase [CSP](https://mne.tools/stable/generated/mne.decoding.CSP.html) de MNE 👇"
      ],
      "metadata": {
        "id": "MTISqs9_Js9r"
      }
    },
    {
      "cell_type": "code",
      "execution_count": null,
      "metadata": {
        "id": "bWrDgbYtolCq"
      },
      "outputs": [],
      "source": [
        "# import from mne\n",
        "from mne.decoding import CSP"
      ]
    },
    {
      "cell_type": "code",
      "source": [
        "vars(CSP())"
      ],
      "metadata": {
        "id": "EvIOWy5iFI9V"
      },
      "execution_count": null,
      "outputs": []
    },
    {
      "cell_type": "markdown",
      "source": [
        "❓\n",
        "1. El parámetro `n_components`, ¿qué define dentro del método?\n",
        "2. ¿Qué opciones existen para el parámetro `transform_into`? ¿Qué efecto tiene en la implementación y uso del método?\n",
        "3. ¿Qué alternativas existen para el parámetro `component_order`? ¿Qué cambiará en la implementación del método si elijo una u otra opción?"
      ],
      "metadata": {
        "id": "r-GUGKyNKIR5"
      }
    },
    {
      "cell_type": "markdown",
      "source": [
        "🤓 Escribí acá tus rtas\n",
        "\n",
        "1...\n",
        "\n",
        "2...\n",
        "\n",
        "3...\n"
      ],
      "metadata": {
        "id": "_v7COaj_Kkjp"
      }
    },
    {
      "cell_type": "markdown",
      "source": [
        "#### Manos a la obra 🤝"
      ],
      "metadata": {
        "id": "DZf4fUzguX4x"
      }
    },
    {
      "cell_type": "markdown",
      "source": [
        "1. Crea un objeto `CSP` que transforme los datos en el espacio de los componentes de CSP y reduzca la dimensionalidad del problema a 6. Como método de ordenamiento utilzá `alternate`"
      ],
      "metadata": {
        "id": "u7tLODP0FyZF"
      }
    },
    {
      "cell_type": "code",
      "source": [
        "# escribí acá tú código"
      ],
      "metadata": {
        "id": "406ZcsR7E2oT"
      },
      "execution_count": null,
      "outputs": []
    },
    {
      "cell_type": "markdown",
      "source": [
        "Sabemos que esto va más allá del módulo actual 🙄, pero CSP es un extractor de características supervisado basado en datos. Como tal, define un método de aprendizaje automático del que el \"extractor\" necesita ser \"aprendido\" y luego aplicado en nuevos datos no vistos. Por esta razón, necesitamos dividir nuestros datos en dos conjuntos: conjunto de entrenamiento y conjunto de prueba. Para eso vamos a utilizar la librería [sklearn](https://scikit-learn.org/)"
      ],
      "metadata": {
        "id": "Rr0AK8ZTGHZt"
      }
    },
    {
      "cell_type": "code",
      "source": [
        "from sklearn.model_selection import train_test_split\n",
        "\n",
        "X_train, X_test, y_train, y_test = train_test_split(data, labels, test_size=0.3, random_state=42)"
      ],
      "metadata": {
        "id": "YyYBc1sYhYnL"
      },
      "execution_count": null,
      "outputs": []
    },
    {
      "cell_type": "markdown",
      "source": [
        "Genial, ahora que ya tenemos los datos dividos en dos subconjuntos separados, seguimos...\n"
      ],
      "metadata": {
        "id": "Eu3TTb5HiFjH"
      }
    },
    {
      "cell_type": "markdown",
      "source": [
        "2. Ajustá el objeto `csp` con los datos de entrenamiento y devolvé en pantallá el tamaño de la matriz de demezcla Wcsp. Responde: ¿tiene sentido el tamaño de esta matriz?\n",
        "\n",
        "💡 TIP: utiliza el método `.fit` para ajustar el modelo. Una vez ajutado el modelo podes acceder a los filtros espaciales mediante `.filters_`"
      ],
      "metadata": {
        "id": "Etc5ueLdN_2c"
      }
    },
    {
      "cell_type": "code",
      "source": [
        "# escribí acá tú código"
      ],
      "metadata": {
        "id": "0OhSkZ7XiIYx"
      },
      "execution_count": null,
      "outputs": []
    },
    {
      "cell_type": "code",
      "source": [
        "# escribí acá tú código"
      ],
      "metadata": {
        "id": "J3PfF-tAu2_m"
      },
      "execution_count": null,
      "outputs": []
    },
    {
      "cell_type": "markdown",
      "source": [
        "3. Explorá el poder de discriminabilidad de cada componente. ¿Sos capaz de observar alguna información discriminativa que diference imaginación de pies vs imaginación de manos?\n",
        "\n",
        "💡 TIP: podes usar el método plot_patterns de csp para graficar los patrones espaciales"
      ],
      "metadata": {
        "id": "QhmnZApAPRXR"
      }
    },
    {
      "cell_type": "code",
      "source": [
        "# escribí acá tú código"
      ],
      "metadata": {
        "id": "kqhvXDJ6PQfT"
      },
      "execution_count": null,
      "outputs": []
    },
    {
      "cell_type": "markdown",
      "source": [
        "4. Obtené las componentes csp para los datos de testeo (`X_test_csp`). ¿Cuál es el tamaño de `X_test_csp`? ¿Por qué?"
      ],
      "metadata": {
        "id": "hzYgA51xPf5g"
      }
    },
    {
      "cell_type": "code",
      "source": [
        "# escribí acá tú código"
      ],
      "metadata": {
        "id": "ezYzqCQoQuQB"
      },
      "execution_count": null,
      "outputs": []
    },
    {
      "cell_type": "markdown",
      "source": [
        "Para terminar de comprender el método CSP. Vamos a graficar los trazos temporales de los primeros 6 componentes de CSP:"
      ],
      "metadata": {
        "id": "iGbXoInGvAye"
      }
    },
    {
      "cell_type": "code",
      "source": [
        "n_components = 6\n",
        "\n",
        "nt, nc, ns = np.shape(X_test_csp)\n",
        "\n",
        "time = np.arange(0, ns/raw.info[\"sfreq\"], 1/raw.info[\"sfreq\"])\n",
        "\n",
        "names_components = ['CSP0', 'CSP1', 'CSP2', 'CSP3', 'CSP4', 'CSP5']\n",
        "# para los primeros 5 trials..\n",
        "for tt in range(5):\n",
        "  plt.figure()\n",
        "  if y_test[tt] == 2:\n",
        "    class_name = 'Hands'\n",
        "  else:\n",
        "    class_name = 'Feet'\n",
        "  plt.title(\"CSP components  trial \" + str(tt) + \" class \" + class_name)\n",
        "  for i in range(n_components):\n",
        "    plt.plot(time, 4*i+X_test_csp[tt, i, :])\n",
        "  plt.yticks(np.arange(0, 4*n_components, 4), names_components)\n",
        "  plt.ylabel(\"Component\")\n",
        "  plt.xlabel(\"Time (s)\")"
      ],
      "metadata": {
        "id": "A6of53jWSCTe"
      },
      "execution_count": null,
      "outputs": []
    },
    {
      "cell_type": "markdown",
      "source": [
        "❓ ¿Qué observas? ¿Qué es lo que cambia para los componentes entre trials de diferente clase?\n",
        "\n",
        "👀 Una ayudita: prestá atención al componente CSP1 y CSP3 entre los trials de mano y pies."
      ],
      "metadata": {
        "id": "ZOIAptaNRZxH"
      }
    },
    {
      "cell_type": "markdown",
      "source": [
        "...."
      ],
      "metadata": {
        "id": "E3lM2h1JSAr6"
      }
    },
    {
      "cell_type": "markdown",
      "source": [
        "❔ ¿ Habrá alguna forma de cuantificar eso que observamos?"
      ],
      "metadata": {
        "id": "VLPjlZ1qvDqx"
      }
    },
    {
      "cell_type": "markdown",
      "source": [
        "4. Calculá las features de csp (`csp_features_var`) a sabiendas que es posible calcular la potencia de una señal filtrada mediante el cálculo de la varianza de dicha señal filtrada. Luego verificá si las features extraídas son similares al aplicar la fórmula de potencia media para una señal causal:\n",
        "\n",
        " $P = \\frac{1}{N}∑_{n=0}^{∞}|x[n]| ^2$\n",
        "\n",
        " Llama a estas features `csp_features`."
      ],
      "metadata": {
        "id": "Ru7mqSp6R_PS"
      }
    },
    {
      "cell_type": "code",
      "source": [
        "# escribí acá tú código"
      ],
      "metadata": {
        "id": "z01SpgFlYN46"
      },
      "execution_count": null,
      "outputs": []
    },
    {
      "cell_type": "code",
      "source": [
        "# escribí acá tú código"
      ],
      "metadata": {
        "id": "2e-9eBsBTsz_"
      },
      "execution_count": null,
      "outputs": []
    },
    {
      "cell_type": "markdown",
      "source": [
        "Para seguir comprendiendo CSP, vamos a considerar que los primeros 2 componentes son lo más discriminativos. Por lo tanto, podemos graficar en el plano cómo las features de una clase y de la otra se agrupan:"
      ],
      "metadata": {
        "id": "yESNB1gNVMvZ"
      }
    },
    {
      "cell_type": "code",
      "source": [
        "plt.scatter(csp_features[y_test==2, 0], csp_features[y_test==2,1], s=40, color='blue', label='Hands MI')\n",
        "plt.scatter(csp_features[y_test==3, 0], csp_features[y_test==3,1], s=40, color='red', label = 'Feet MI')\n",
        "plt.xlabel('CSP feature 0')\n",
        "plt.ylabel('CSP feature 1')\n",
        "plt.legend()"
      ],
      "metadata": {
        "id": "Hj_50Sq4Z9Tt"
      },
      "execution_count": null,
      "outputs": []
    },
    {
      "cell_type": "markdown",
      "source": [
        "❓ ¿Qué ocurre si graficamos CSP feature 0 vs CSP feauture 4? ¿Por qué? ¿Era esperado?"
      ],
      "metadata": {
        "id": "Q9omDZC9awnb"
      }
    },
    {
      "cell_type": "code",
      "source": [
        "#probá acá!"
      ],
      "metadata": {
        "id": "gyx7IwhqXovT"
      },
      "execution_count": null,
      "outputs": []
    },
    {
      "cell_type": "markdown",
      "source": [
        "## Para seguir pensando...."
      ],
      "metadata": {
        "id": "t7de-NwmBgjR"
      }
    },
    {
      "cell_type": "markdown",
      "source": [
        "❓\n",
        "\n",
        "\n",
        "1. ¿Qué hubiese ocurrido si en vez de utilizar `alternate` como método de ordenamiento habríamos usado `Mutual information`? Probalo y fijate como cambian los topomaps!\n",
        "2. ¿Puedo inferir el número óptimo de features a extraer en función de la observación de los mapas topográficos de los patrones espaciales de CSP?\n",
        "3. ¿Están ordenados los componentes?\n",
        "4. A mayor cantidad de trial, ¿qué mejorará en el método?\n"
      ],
      "metadata": {
        "id": "D6N_pGESeq8L"
      }
    },
    {
      "cell_type": "markdown",
      "source": [
        "\n",
        "1 ...\n",
        "\n",
        "2 ...\n",
        "\n",
        "3 ..."
      ],
      "metadata": {
        "id": "wLdjWrRCxH6C"
      }
    },
    {
      "cell_type": "markdown",
      "source": [
        "# References\n",
        "[1] Blankertz, B., Tomioka, R., Lemm, S., Kawanabe, M., & Muller, K. R. (2007). Optimizing spatial filters for robust EEG single-trial analysis. IEEE Signal processing magazine, 25(1), 41-56.\n",
        "\n",
        "[2] Gerwin Schalk, Dennis J. McFarland, Thilo Hinterberger, Niels Birbaumer, and Jonathan R. Wolpaw. BCI2000: a general-purpose brain-computer interface (BCI) system. IEEE Transactions on Biomedical Engineering, 51(6):1034–1043, 2004. doi:10.1109/TBME.2004.827072.\n"
      ],
      "metadata": {
        "id": "oDY_Z-rXu5bg"
      }
    }
  ]
}