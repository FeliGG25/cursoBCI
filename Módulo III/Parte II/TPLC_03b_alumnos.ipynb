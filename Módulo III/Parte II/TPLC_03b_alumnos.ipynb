{
  "cells": [
    {
      "cell_type": "markdown",
      "metadata": {
        "id": "P2NL0j_hKbE5"
      },
      "source": [
        "#Machine Learning Estadístico para Interfaces Cerebro-Computadora"
      ]
    },
    {
      "cell_type": "markdown",
      "metadata": {
        "id": "A3OvCXt9PsEm"
      },
      "source": [
        "## Trabajo Práctico de Laboratorio de Computación III - Parte II: LDA regularizado y máquinas de soporte vectorial"
      ]
    },
    {
      "cell_type": "markdown",
      "metadata": {
        "id": "u3fxW6T8QQEm"
      },
      "source": [
        "\n",
        "❗Antes de comenzar recordá hacer una copia de este documento de manera que puedas editarlo y guardar los cambios en tu Drive."
      ]
    },
    {
      "cell_type": "markdown",
      "metadata": {
        "id": "YsLVxGYE8SRl"
      },
      "source": [
        "Este TPLC tiene como objetivo que el alumno sea capaz de:\n",
        "1. Comprender el impacto de la estimación de las matrices de covarianza\n",
        "2. Aprender del uso de regularizadores para mejorar la estabilidad en la solución\n",
        "3. Comprender la diferencia entre parámetros e hiperparámetros de un modelo\n",
        "4. Entender la importancia de la normalización de los datos y búsqueda de hiperparámetros"
      ]
    },
    {
      "cell_type": "markdown",
      "metadata": {
        "id": "kOKSkacl9KhC"
      },
      "source": [
        "Es **requisito** para aprobar este curso que esta guía práctica sea completada y enviada para su evaluación. Se aceptan trabajos realizados en forma grupal de *hasta dos alumnos por grupo*."
      ]
    },
    {
      "cell_type": "code",
      "execution_count": null,
      "metadata": {
        "id": "8XgkJFX_qW0Y"
      },
      "outputs": [],
      "source": [
        "# instalamos MNE\n",
        "!pip install MNE"
      ]
    },
    {
      "cell_type": "code",
      "execution_count": null,
      "metadata": {
        "id": "Qtmg1R1WISLz"
      },
      "outputs": [],
      "source": [
        "# Importamos las bibliotecas y funciones\n",
        "import numpy as np\n",
        "import matplotlib.pyplot as plt\n",
        "from mne.channels import make_standard_montage\n",
        "from mne.io import concatenate_raws, read_raw_edf\n",
        "from mne import Epochs, pick_types, events_from_annotations\n",
        "import mne"
      ]
    },
    {
      "cell_type": "markdown",
      "metadata": {
        "id": "ertnzobzGov0"
      },
      "source": [
        "# Los datos"
      ]
    },
    {
      "cell_type": "markdown",
      "metadata": {
        "id": "aKuPDrNgtSXy"
      },
      "source": [
        "Vamos a trabajar con los datos de ERPs que trabajamos en el [TPLC_1](https://colab.research.google.com/drive/15yhfPmb-RJ_WFVysAxeKIpxp0Yn7UqJC?authuser=1#scrollTo=JVpoinhE3nNN).\n",
        "\n",
        "Enfocandonos en el problema de detección, nos vamos a centrar en poder discriminar entre épocas de estimulación izquierda visual vs. épocas de estimulación izquierda auditiva. En otras palabras, vamos a querer discriminar entre el tipo de estimulación: visual o auditiva."
      ]
    },
    {
      "cell_type": "code",
      "execution_count": null,
      "metadata": {
        "id": "lPrlXBtr__y9"
      },
      "outputs": [],
      "source": [
        "root = mne.datasets.sample.data_path() / \"MEG\" / \"sample\"\n",
        "raw_file = root / \"sample_audvis_raw.fif\"\n",
        "raw_erps = mne.io.read_raw_fif(raw_file, preload=True)\n",
        "\n",
        "events_file = root / \"sample_audvis_raw-eve.fif\"\n",
        "events_erps = mne.read_events(events_file)"
      ]
    },
    {
      "cell_type": "code",
      "source": [
        "# sampling freq\n",
        "sfreq = raw_erps.info[\"sfreq\"]\n",
        "print(sfreq)"
      ],
      "metadata": {
        "id": "ObnIor8YQfgq"
      },
      "execution_count": null,
      "outputs": []
    },
    {
      "cell_type": "markdown",
      "source": [
        "Las señales de ERPs son observadas en la bajas frecuencias (1-12 Hz). Es por esto que para reduccir la dimensionalidad del problema, luego de filtrar los datos, vamos a submuestrear tomando cada 16 muestras."
      ],
      "metadata": {
        "id": "3_XDXxR_J1ju"
      }
    },
    {
      "cell_type": "markdown",
      "source": [
        "❓ ¿Cuál es la frecuencia final de muestreo?"
      ],
      "metadata": {
        "id": "POpf2eA8KGRx"
      }
    },
    {
      "cell_type": "markdown",
      "source": [
        "..."
      ],
      "metadata": {
        "id": "BZOrZCTm8co6"
      }
    },
    {
      "cell_type": "code",
      "source": [
        "# events of relevant classes\n",
        "event_erps_dict = {\n",
        "    \"auditory/left\": 1,\n",
        "    \"visual/left\": 3,\n",
        "}\n",
        "\n",
        "#filtro\n",
        "raw_erps_filt = raw_erps.copy().filter(l_freq=1, h_freq=12)\n",
        "# epocas\n",
        "epochs_erp = mne.Epochs(raw_erps_filt, events_erps, event_id=event_erps_dict,\n",
        "                        baseline=None, tmin=0, tmax=1, picks=\"eeg\",\n",
        "                        reject=None, proj=False, reject_by_annotation=False,\n",
        "                        flat=None, preload=True, decim=16)"
      ],
      "metadata": {
        "id": "YYbFfnSILuQO"
      },
      "execution_count": null,
      "outputs": []
    },
    {
      "cell_type": "markdown",
      "source": [
        "Separamos en datos y etiquetas y comprobamos la cantidad de elementos de cada clase:"
      ],
      "metadata": {
        "id": "fytXqChEKL8B"
      }
    },
    {
      "cell_type": "code",
      "source": [
        "# Get data and labels\n",
        "labels = epochs_erp.events[:, -1]\n",
        "data = epochs_erp.get_data(copy=True)\n",
        "print(np.shape(data))\n",
        "print(sum(labels==1))"
      ],
      "metadata": {
        "id": "LAFmqcjtMBXB"
      },
      "execution_count": null,
      "outputs": []
    },
    {
      "cell_type": "markdown",
      "source": [
        "👌 OK ahora que tenemos los datos nos surmegimos 🏊 en esta prática"
      ],
      "metadata": {
        "id": "SBwyACLSwwEy"
      }
    },
    {
      "cell_type": "markdown",
      "metadata": {
        "id": "2iQST-1_sxnW"
      },
      "source": [
        "# Matrices de covarianza y LDA"
      ]
    },
    {
      "cell_type": "markdown",
      "source": [
        "LDA es una método de transformación lineal que depende de la estimación de matrices de covarianza. Se basa en tres supociones generales de los datos:\n",
        "\n",
        "1. Las features de cada clase tienen distribución Gaussiana.\n",
        "2. Las distribuciones Gaussianas de todas las clases tienen la misma matriz de covarianza.\n",
        "3. La distribución verdadera de la clase es conocida.\n",
        "\n",
        "Mientras que 3 es imposible en la practica, los supuestos 1 y 2 pueden comprobarse con nuestros datos. En particular, es el supuesto dos el que hará que nuestras features sean linealmente separables.\n",
        "\n",
        "En el conjunto de datos, podemos verificar el supuesto 2 inspeccionando las topografías de los componentes principales correspondientes a los mayores autovalores de las matrices de covarianza para cada clase... veamos 👀\n",
        "\n",
        "\n"
      ],
      "metadata": {
        "id": "gZvnHzEygeQc"
      }
    },
    {
      "cell_type": "markdown",
      "source": [
        "Comenzamos partiendo nuestros datos en training y testing sets 👇"
      ],
      "metadata": {
        "id": "h0H5o4Eqzp6m"
      }
    },
    {
      "cell_type": "code",
      "execution_count": null,
      "metadata": {
        "id": "YyYBc1sYhYnL"
      },
      "outputs": [],
      "source": [
        "from sklearn.model_selection import train_test_split\n",
        "\n",
        "X_train, X_test, y_train, y_test = train_test_split(data, labels, test_size=0.3, random_state=42, stratify=labels)"
      ]
    },
    {
      "cell_type": "markdown",
      "source": [
        "Definimos una función para calcular las matrices de covarianza"
      ],
      "metadata": {
        "id": "lsjYvyXpzxjG"
      }
    },
    {
      "cell_type": "code",
      "source": [
        "from sklearn.covariance import EmpiricalCovariance\n",
        "\n",
        "def compute_covariance_matrices(X, y):\n",
        "  classes =  np.unique(y)\n",
        "  covs = []\n",
        "  sample_weights = []\n",
        "  for this_class in classes:\n",
        "    x_class = X[y == this_class]\n",
        "\n",
        "    cov = sum(EmpiricalCovariance().fit(this_X.T).covariance_ for this_X in x_class)\n",
        "    cov /= len(x_class)\n",
        "    covs.append(cov)\n",
        "  return np.stack(covs)"
      ],
      "metadata": {
        "id": "ZK-YbFESpXPJ"
      },
      "execution_count": null,
      "outputs": []
    },
    {
      "cell_type": "markdown",
      "source": [
        "Y la usamos en los datos de entrenamiento 😄"
      ],
      "metadata": {
        "id": "ZLlYYfBnz1gW"
      }
    },
    {
      "cell_type": "code",
      "source": [
        "covs = compute_covariance_matrices(X_train, y_train)\n",
        "print(np.shape(covs))"
      ],
      "metadata": {
        "id": "ia1Nq9MnqkOu"
      },
      "execution_count": null,
      "outputs": []
    },
    {
      "cell_type": "markdown",
      "source": [
        "👍 Bien, tenemos nuestras matrices de covarianza. Ahora vamos a aplicar PCA a cada matriz de covarianza y graficar el mapa topográfico de los primeros 4 componentes"
      ],
      "metadata": {
        "id": "fsq1_CtN0GMa"
      }
    },
    {
      "cell_type": "code",
      "source": [
        "from sklearn.decomposition import PCA\n",
        "\n",
        "pca1 = PCA().fit(covs[0])\n",
        "wpca1 = pca1.components_\n",
        "\n",
        "pca2 = PCA().fit(covs[1])\n",
        "wpca2 = pca2.components_\n",
        "#\n",
        "\n",
        "print(np.shape(wpca1))"
      ],
      "metadata": {
        "id": "TdoeqvCfr5V-"
      },
      "execution_count": null,
      "outputs": []
    },
    {
      "cell_type": "code",
      "source": [
        "aux_info = epochs_erp.copy().resample(1).info  # make it 1Hz for plotting\n",
        "\n",
        "# create an evoked\n",
        "patterns = mne.EvokedArray(wpca1.T, aux_info, tmin=0)\n",
        "# plot the first 4 components\n",
        "components = np.arange(5)\n",
        "patterns.plot_topomap(\n",
        "            times=components,\n",
        "            time_format=\"PC visual %d\");"
      ],
      "metadata": {
        "id": "jV_CDVAitbBv"
      },
      "execution_count": null,
      "outputs": []
    },
    {
      "cell_type": "code",
      "source": [
        "aux_info = epochs_erp.copy().resample(1).info  # make it 1Hz for plotting\n",
        "\n",
        "# create an evoked\n",
        "patterns = mne.EvokedArray(wpca2.T, aux_info, tmin=0)\n",
        "# plot the first 4 components\n",
        "components = np.arange(5)\n",
        "patterns.plot_topomap(\n",
        "            times=components,\n",
        "            time_format=\"PC auditory %d\");"
      ],
      "metadata": {
        "id": "-tkyd6pAtmrX"
      },
      "execution_count": null,
      "outputs": []
    },
    {
      "cell_type": "markdown",
      "source": [
        "❓ ¿Qué observas? ¿Se parecen (en morfología) los mapas topográficos? ¿Qué significa esto?"
      ],
      "metadata": {
        "id": "MNTUBV_d0t16"
      }
    },
    {
      "cell_type": "markdown",
      "source": [
        "...."
      ],
      "metadata": {
        "id": "ywH5vzC81FmI"
      }
    },
    {
      "cell_type": "markdown",
      "source": [
        "❓ ¿Se observará el mismo efecto si sólo usamos el 10% para entrenar?\n",
        "\n",
        "Para responder esto, hace un código para observar el efecto del tamaño de la muestra en la estimación de la matrices de covarianza.\n",
        "\n",
        "💡 TIP: podes hacerlo cambiando el `test_size` de la función `train_test_split` que usamos arriba"
      ],
      "metadata": {
        "id": "CXytK7EL1a--"
      }
    },
    {
      "cell_type": "code",
      "source": [
        "# escribí tú código acá"
      ],
      "metadata": {
        "id": "3GVS9FyR3q64"
      },
      "execution_count": null,
      "outputs": []
    },
    {
      "cell_type": "markdown",
      "source": [
        "🏃 🔥 OK la cosa ya no se ve taaan bonita ¿Qué hacemos? Acordate, llorar y salir corriendo nunca es la (única) solución. Veamos que tenemos a mano...."
      ],
      "metadata": {
        "id": "vPwstjf03zit"
      }
    },
    {
      "cell_type": "markdown",
      "source": [
        "## Shrinkage LDA"
      ],
      "metadata": {
        "id": "dKp4e1O84BIb"
      }
    },
    {
      "cell_type": "markdown",
      "source": [
        "El estimador estándar para una matriz de covarianza es la covarianza empírica dada por:\n",
        "\n",
        "$$\\hat{\\Sigma} = \\frac{1}{n-1}\\sum_{i}XX^T,$$\n",
        "\n",
        "si $X$ tiene media cero.\n",
        "\n",
        "Este estimador es insesgado (por el $n-1$) y tiene buenas propiedades bajo condiciones usuales. Pero para datos de alta dimensionalidad ($p ≫ N_t$) y/o un número pequeño de datos, la estimación puede volverse imprecisa.\n",
        "\n",
        "Esto conlleva a un error sistemático: los autovalores grandes de la matriz de covarianza original se estiman demasiado grandes, y los autovalores pequeños se estiman demasiado pequeños, provocando cierta inestabilidad en la solución."
      ],
      "metadata": {
        "id": "aRYce1nL7v3A"
      }
    },
    {
      "cell_type": "markdown",
      "source": [
        "Para contrarrestar el error de estimación, $\\hat{\\Sigma}$ se reemplaza por $\\tilde{Σ}= (1- λ) \\hat{Σ} + \\lambda \\nu I, $ donde $\\lambda \\in [0, 1]$ es lo que se denomina parámetro de regularización y $\\nu=trace(\\hat{Σ})/Nc$ denota el valor promedio de los autovalores"
      ],
      "metadata": {
        "id": "0pi-Oixh_6U4"
      }
    },
    {
      "cell_type": "markdown",
      "source": [
        "## 🤝 Manos a la obra"
      ],
      "metadata": {
        "id": "LIOQODj-HWI_"
      }
    },
    {
      "cell_type": "markdown",
      "source": [
        "Para comprender el efecto que tiene el parámetro de shrinkage, te vamos a pedir que calcules el score para $λ=0.001, 0.005, 0.05, 0.01, 0.5, 1$. Graficá la performance del clasificador para cada valor de $λ$ estudiado e indicá el valor en el cuál la performance parece ser la mejor.\n",
        "\n",
        "⚠ Vas a tener que seleccionar canales para el análisis. Alguno canales relevantes para estudiar la presencia de ERPs son Fz, C3, Cz, C4, P3, Pz, P4, PO7, PO8,Oz. Elegí canales que correspondan a esas posiciones.\n",
        "\n",
        "💡 TIPs:\n",
        "1. Mirá a la función [`LinearDiscriminantAnalysis`](https://scikit-learn.org/stable/modules/generated/sklearn.discriminant_analysis.LinearDiscriminantAnalysis.html#sklearn.discriminant_analysis.LinearDiscriminantAnalysis) y jugá con el parámetro `shrinkage`. Recordá poner como solver `eigen`.\n",
        "2. Para seleccionar canales mirá la función [pick_channels](https://mne.tools/stable/generated/mne.pick_channels.html) de MNE observando según lo que vimos en el [TPLC_1](https://colab.research.google.com/drive/15yhfPmb-RJ_WFVysAxeKIpxp0Yn7UqJC?authuser=1#scrollTo=JVpoinhE3nNN) las posiciones de los canales para esta base datos."
      ],
      "metadata": {
        "id": "sRDR-gG3HbIE"
      }
    },
    {
      "cell_type": "code",
      "source": [
        "# select the following channels Fz, C3, Cz, C4, P3, Pz, P4, PO7, PO8,Oz\n",
        "ch2pick = [....]\n",
        "\n",
        "ixd_ch = mne.pick_channels(epochs_erp.info[\"ch_names\"], include=ch2pick)\n",
        "\n",
        "print(ixd_ch)"
      ],
      "metadata": {
        "id": "JeGXCehA2vbL"
      },
      "execution_count": null,
      "outputs": []
    },
    {
      "cell_type": "code",
      "source": [
        "# get gata from those ch\n",
        "X_train_ch =...\n",
        "X_test_ch = ..."
      ],
      "metadata": {
        "id": "55ot40Aj6sUu"
      },
      "execution_count": null,
      "outputs": []
    },
    {
      "cell_type": "code",
      "source": [
        "# reshape\n",
        "nt, nc, ns = np.shape(X_train_ch)\n",
        "X_tr_lda = X_train_ch.reshape(nt, nc*ns)\n",
        "\n",
        "nt, nc, ns = np.shape(X_test_ch)\n",
        "X_test_lda = X_test_ch.reshape(nt, nc*ns)"
      ],
      "metadata": {
        "id": "hoCJLTtJ7Cyb"
      },
      "execution_count": null,
      "outputs": []
    },
    {
      "cell_type": "code",
      "execution_count": null,
      "metadata": {
        "id": "bWrDgbYtolCq"
      },
      "outputs": [],
      "source": [
        "# import from sklearn\n",
        "from sklearn.discriminant_analysis import LinearDiscriminantAnalysis"
      ]
    },
    {
      "cell_type": "code",
      "execution_count": null,
      "metadata": {
        "id": "63eoEK9-zABf"
      },
      "outputs": [],
      "source": [
        "scores = []\n",
        "for l in [0.001, 0.005, 0.05, 0.01, 0.5, 1]:\n",
        "  lda =...\n",
        "  ...\n",
        "  scores.append(lda.score(X_test_lda, y_test))\n"
      ]
    },
    {
      "cell_type": "code",
      "source": [
        "plt.plot(scores, color='green', marker='o', linestyle='dashed',\n",
        "     linewidth=2, markersize=12);\n",
        "plt.xticks(range(len([0.001, 0.005, 0.05, 0.01, 0.5, 1])), ([0.001, 0.005, 0.05, 0.01, 0.5, 1]));\n",
        "plt.xlabel(\"reg param\");\n",
        "plt.ylabel(\"score\");"
      ],
      "metadata": {
        "id": "TZAmiuFs8WvH"
      },
      "execution_count": null,
      "outputs": []
    },
    {
      "cell_type": "markdown",
      "source": [
        "❓ ¿Existe una dependencia entre el valor del parámetro de regularización y la performance en clasificación?"
      ],
      "metadata": {
        "id": "iIug16wR_eZK"
      }
    },
    {
      "cell_type": "markdown",
      "source": [
        "...."
      ],
      "metadata": {
        "id": "9FyX1L21MyiU"
      }
    },
    {
      "cell_type": "markdown",
      "source": [
        "❓ ¿Qué pasa si entrenas el LDA con estos datos con el parámetros `shrinkage` igual a  `None` ?  ¿Qué ocurre? Probalo 👇"
      ],
      "metadata": {
        "id": "YHeCGA3YMk6D"
      }
    },
    {
      "cell_type": "code",
      "source": [
        "# escribí tú código acá"
      ],
      "metadata": {
        "id": "5YDSRl59Mw_V"
      },
      "execution_count": null,
      "outputs": []
    },
    {
      "cell_type": "markdown",
      "source": [
        "#### Búsqueda del mejor parámetro de regularización"
      ],
      "metadata": {
        "id": "YOVbu50398L_"
      }
    },
    {
      "cell_type": "markdown",
      "source": [
        "El parámetro de regularización en Shrinkage LDA forma parte de lo que denominamos hiperparámetros de nuestros modelos. Es decir, son aquellos parámetros que no forman parte del proceso de aprenzaje (ajuste) pero que definen al modelo en sí mismo. Es por esto que es muy importante poder hallar el mejor hiperparámetro antes de comenzar el proceso de ajuste en sí mismo"
      ],
      "metadata": {
        "id": "eRczU_xg_EiJ"
      }
    },
    {
      "cell_type": "markdown",
      "source": [
        "![param_hiper.png](data:image/png;base64,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)"
      ],
      "metadata": {
        "id": "ESOQkZsiZ7M3"
      }
    },
    {
      "cell_type": "markdown",
      "source": [
        "Existen diferentes formas de realizar esta búsqueda. Una de las más conocidas es la búsqueda por grilla, en la cuál dado un conjunto de posibles valores del hiperparámetro evalúo la performance del clasificador en un conjunto de validación."
      ],
      "metadata": {
        "id": "R2vS-HYQ_0uW"
      }
    },
    {
      "cell_type": "markdown",
      "source": [
        "#### Validación cruzada"
      ],
      "metadata": {
        "id": "gOtDQULJ-B_v"
      }
    },
    {
      "cell_type": "markdown",
      "source": [
        "La validación cruzada nos permite evaluar el comportamiento de un modelo simulando que parte de nuestros datos de entrenamiento son de testeo. En este sentido, podemos particionar los datos de entrenamiento en lo que se denomina conjunto de **entrenamiento** y **validación**."
      ],
      "metadata": {
        "id": "XWX7fUQZAPXE"
      }
    },
    {
      "cell_type": "markdown",
      "source": [
        "\n",
        "![training_val_test.png](data:image/png;base64,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)"
      ],
      "metadata": {
        "id": "HC_AtF5mwCAU"
      }
    },
    {
      "cell_type": "markdown",
      "source": [
        "En sklearn podemos utilizar la función [StratifiedKFold](https://scikit-learn.org/stable/modules/generated/sklearn.model_selection.StratifiedKFold.html) para iterar sobre las particiones."
      ],
      "metadata": {
        "id": "dJV3iknsNEA6"
      }
    },
    {
      "cell_type": "markdown",
      "source": [
        "En particular, vamos a definir la grilla de valores, utilizando un rango de valores posibles en escala logarítimica:"
      ],
      "metadata": {
        "id": "GuhZrACPNf26"
      }
    },
    {
      "cell_type": "code",
      "source": [
        "reg = np.logspace(-3, 0, num=20)\n",
        "print(reg)"
      ],
      "metadata": {
        "id": "gAM-_pOTB1Rh"
      },
      "execution_count": null,
      "outputs": []
    },
    {
      "cell_type": "markdown",
      "source": [
        "Ayudanos complentando el siguiente código en el cuál estamos realizando la búsqueda del mejor parámetro de regularización mediante validación cruzada 👇"
      ],
      "metadata": {
        "id": "U9RnNEBINqAU"
      }
    },
    {
      "cell_type": "code",
      "source": [
        "from sklearn.model_selection import StratifiedKFold\n",
        "\n",
        "cv = StratifiedKFold(n_splits=5)\n",
        "scores_all = []\n",
        "for l in reg:\n",
        "  scores = []\n",
        "  for i, (train_index, test_index) in enumerate(cv.split(X_tr_lda, y_train)):\n",
        "    lda = ....\n",
        "    ....\n",
        "    scores.append(lda.score(X_tr_lda[test_index], y_train[test_index]))\n",
        "  scores_all.append(np.mean(scores))"
      ],
      "metadata": {
        "id": "ps8ZSoubBPp0"
      },
      "execution_count": null,
      "outputs": []
    },
    {
      "cell_type": "code",
      "source": [
        "plt.plot(scores_all, color='green', marker='o', linestyle='dashed',\n",
        "     linewidth=2, markersize=12);\n",
        "plt.xticks(range(len(reg)), np.round(reg,3), rotation = 45);\n",
        "plt.xlabel(\"reg param\");\n",
        "plt.ylabel(\"score\");"
      ],
      "metadata": {
        "id": "9vf1NjQICtuB"
      },
      "execution_count": null,
      "outputs": []
    },
    {
      "cell_type": "markdown",
      "source": [
        "❓ ¿Por qué en el código tomamos el promedio de los scores?"
      ],
      "metadata": {
        "id": "mCnad-uSOPRd"
      }
    },
    {
      "cell_type": "markdown",
      "source": [
        "...."
      ],
      "metadata": {
        "id": "eGaZgFrZOXOO"
      }
    },
    {
      "cell_type": "markdown",
      "source": [
        "❓ ¿Cuál es el valor optimo del parámetro de regularización? Hallalo 👇"
      ],
      "metadata": {
        "id": "aVIUU1w-N37C"
      }
    },
    {
      "cell_type": "code",
      "source": [
        "# escribí tú código acá"
      ],
      "metadata": {
        "id": "JbvFBEeKDkmP"
      },
      "execution_count": null,
      "outputs": []
    },
    {
      "cell_type": "markdown",
      "source": [
        "Una vez que hemos seleccionado el parámetro de regularización óptimo podemos entonces ajustar mi modelo de clasificación utilizando *ese* valor del parámetro de regularización con todos mis datos de entrenamiento, y finalmente evaluar la performance en mis datos de testeo 🙂.\n",
        "\n",
        "Hacelo 👇"
      ],
      "metadata": {
        "id": "RxnB2V_RODC2"
      }
    },
    {
      "cell_type": "code",
      "source": [
        "lda = ....\n",
        "\n",
        "print(lda.score(X_test_lda, y_test))"
      ],
      "metadata": {
        "id": "06VPPlhBDpXH"
      },
      "execution_count": null,
      "outputs": []
    },
    {
      "cell_type": "markdown",
      "source": [
        "🌟 Voilá, anda SUPER bien nuestro detector de ERPs visuales y auditivos!"
      ],
      "metadata": {
        "id": "jTWUCDhFOfNo"
      }
    },
    {
      "cell_type": "markdown",
      "source": [
        "❓ ¿El valor del parámetro de regularización hallado será el mismo para otra base de datos, sujetos, o problema de clasificación? ¿ Habría sido el mismo si en vez de querer detectar estímulo visual izq vs estímulo auditivo izq habría sido estímulo visual izq. vs estímulo visual derecho?\n",
        "\n",
        "Te invito a probarlo, por diversión 😉"
      ],
      "metadata": {
        "id": "kQCP-3k-OrV8"
      }
    },
    {
      "cell_type": "markdown",
      "source": [
        "### Ledoit-Wolf lemma"
      ],
      "metadata": {
        "id": "UbhpFvCb-EIe"
      }
    },
    {
      "cell_type": "markdown",
      "source": [
        "Ciertos hiperparametros pueden ser encontrados de forma analítica mediante la resolución de una función de costo de balance o compromiso.\n",
        "\n",
        "Este es el caso de la regla de Ledoit-Wolf [2], en la cuál es posible hallar de forma analítica, guidada por los datos, un valor para el parámetro de regularización de shrinkage sin necesidad de realizar validación cruzada.\n"
      ],
      "metadata": {
        "id": "zs4YZpSmGEy1"
      }
    },
    {
      "cell_type": "markdown",
      "source": [
        "La función [LinearDiscriminantAnalysis](https://scikit-learn.org/stable/modules/generated/sklearn.discriminant_analysis.LinearDiscriminantAnalysis.html#sklearn-discriminant-analysis-lineardiscriminantanalysis) de Sklearn trae implementada dicha regla al ajustar el parámetro `shrinkage` a `auto`.\n",
        "\n",
        "Veamos 👀"
      ],
      "metadata": {
        "id": "YGr0DhD4PnXY"
      }
    },
    {
      "cell_type": "code",
      "source": [
        "lda = LinearDiscriminantAnalysis(solver='eigen', n_components=1, shrinkage='auto')\n",
        "lda.fit(X_tr_lda, y_train)\n",
        "print(lda.score(X_test_lda, y_test))"
      ],
      "metadata": {
        "id": "xSk6VLU1GEBy"
      },
      "execution_count": null,
      "outputs": []
    },
    {
      "cell_type": "markdown",
      "source": [
        "🤯 Wouw, en NADA de tiempo entrenamos el clasificador sin necesidad de buscar el mejor valor del hiperparámetro dando hasta valores mucho mejores que antes! Esto pinta bien 😎"
      ],
      "metadata": {
        "id": "Sp5jRr-MP6aX"
      }
    },
    {
      "cell_type": "markdown",
      "source": [
        "Perooo, puede haber ocasiones en que mediante el lemma de Ledoit - Wolf no se llegue a la mejor performance en los datos de testeo.\n",
        "\n",
        "❓ Entonces, ¿por qué a pesar de que puede dar valores más bajos que la búsqueda mediante validación cruzada es una de las formas de selección del parámetro de shrinkage más elegida en BCI?"
      ],
      "metadata": {
        "id": "UwOo7j_bHf21"
      }
    },
    {
      "cell_type": "markdown",
      "source": [
        "...."
      ],
      "metadata": {
        "id": "XA-YFl2jISed"
      }
    },
    {
      "cell_type": "markdown",
      "metadata": {
        "id": "t7de-NwmBgjR"
      },
      "source": [
        "## Para seguir pensando...."
      ]
    },
    {
      "cell_type": "markdown",
      "metadata": {
        "id": "D6N_pGESeq8L"
      },
      "source": [
        "❓\n",
        "\n",
        "\n",
        "1. ¿Es aplicable la regularización shrinkage para otros métodos basados en la estimación de la matriz de la covarianza, como CSP o SSD?\n",
        "2. ¿La búsqueda de hiperparámetros es un proceso necesario para el ajuste óptimo de mi modelo?\n",
        "3. En el caso de una BCI en tiempo real, ¿reajusto los hiperparámetros en cada sesión de uso de la BCI?\n",
        "4. En teoría vimos que LDA también puede escribirme como un método de regresión, ¿qué resultados obtendría si en vez de utilizar el `eigen` como `solver` utilizo `lsqr`?\n"
      ]
    },
    {
      "cell_type": "markdown",
      "metadata": {
        "id": "wLdjWrRCxH6C"
      },
      "source": [
        "\n",
        "1 ...\n",
        "\n",
        "2 ...\n",
        "\n",
        "3 ..."
      ]
    },
    {
      "cell_type": "code",
      "source": [
        "lda = LinearDiscriminantAnalysis(solver='lsqr', n_components=1, shrinkage='auto')\n",
        "lda.fit(X_tr_lda, y_train)\n",
        "print(lda.score(X_test_lda, y_test))"
      ],
      "metadata": {
        "id": "nO8b5p0cQqzU"
      },
      "execution_count": null,
      "outputs": []
    },
    {
      "cell_type": "markdown",
      "source": [
        "# Máquinas de soporte vectorial"
      ],
      "metadata": {
        "id": "yBrSBldVVYZR"
      }
    },
    {
      "cell_type": "markdown",
      "source": [
        "Las máquinas de soporte vectorial son un tipo de clasificador lineal que buscan maximizar el margen de la frontera de decisión. Asimismo, mediante el denominado kernel trick, pueden transformar los datos no linealmente separables a una espacio dónde sí lo sean, y allí buscar la frontera decisión de máxima discriminabilidad."
      ],
      "metadata": {
        "id": "Zu3ulKjaZ3sK"
      }
    },
    {
      "cell_type": "markdown",
      "source": [
        "A modo de evaluar este método, vamos a trabajar con un problema de clasificación un poquítimo más dificil que el anterior: discriminar entre estímulos visuales derechos e izquierdos:"
      ],
      "metadata": {
        "id": "Y0mOYCtPaSAF"
      }
    },
    {
      "cell_type": "code",
      "source": [
        "# events of relevant classes\n",
        "event_erps_dict = {\n",
        "    \"visual/left\": 1,\n",
        "    \"visual/right\": 2,\n",
        "}\n",
        "\n",
        "#filtro\n",
        "raw_erps_filt = raw_erps.copy().filter(l_freq=1, h_freq=12)\n",
        "# epocas\n",
        "epochs_erp2 = mne.Epochs(raw_erps_filt, events_erps, event_id=event_erps_dict,\n",
        "                        baseline=None, tmin=0, tmax=1, picks=\"eeg\",\n",
        "                        reject=None, proj=False, reject_by_annotation=False,\n",
        "                        flat=None, preload=True, decim=16)"
      ],
      "metadata": {
        "id": "PUUtQdmjWV94"
      },
      "execution_count": null,
      "outputs": []
    },
    {
      "cell_type": "markdown",
      "source": [
        "Partimos los datos como antes en entrenamiento y testeo:"
      ],
      "metadata": {
        "id": "mEGFOLCwai6D"
      }
    },
    {
      "cell_type": "code",
      "source": [
        "# Get data and labels\n",
        "labels2 = epochs_erp2.events[:, -1]\n",
        "data2 = epochs_erp2.get_data(copy=True)\n",
        "print(np.shape(data2))\n",
        "print(sum(labels2==1))"
      ],
      "metadata": {
        "id": "bl9SlhhSWxEv"
      },
      "execution_count": null,
      "outputs": []
    },
    {
      "cell_type": "code",
      "execution_count": null,
      "metadata": {
        "id": "5qlJTHWXWxEw"
      },
      "outputs": [],
      "source": [
        "from sklearn.model_selection import train_test_split\n",
        "\n",
        "X_train, X_test, y_train, y_test = train_test_split(data2, labels2, test_size=0.3, random_state=42, stratify=labels2)"
      ]
    },
    {
      "cell_type": "markdown",
      "source": [
        "Como hicimos con LDA, te pedimos que selecciones 10 canales próximos a las posiciones Fz, C3, Cz, C4, P3, Pz, P4, PO7, PO8, Oz y fijate cómo anda un LDA regularizado utilizando `auto` para el parámetro `shrinkage`."
      ],
      "metadata": {
        "id": "Omegn0HWaqCZ"
      }
    },
    {
      "cell_type": "code",
      "source": [
        "# select the following channels Fz, C3, Cz, C4, P3, Pz, P4, PO7, PO8,Oz\n",
        "ch2pick = [....]\n",
        "\n",
        "ixd_ch = mne.pick_channels(epochs_erp2.info[\"ch_names\"], include=ch2pick)\n",
        "\n",
        "print(ixd_ch)"
      ],
      "metadata": {
        "id": "4_LrxpB8WqX3"
      },
      "execution_count": null,
      "outputs": []
    },
    {
      "cell_type": "code",
      "source": [
        "# get gata from those ch\n",
        "X_train_ch = X_train[:, ixd_ch, :]\n",
        "X_test_ch = X_test[:, ixd_ch, :]"
      ],
      "metadata": {
        "id": "oYPGdJufWqYV"
      },
      "execution_count": null,
      "outputs": []
    },
    {
      "cell_type": "code",
      "source": [
        "# reshape\n",
        "nt, nc, ns = np.shape(X_train_ch)\n",
        "X_tr_svm = X_train_ch.reshape(nt, nc*ns)\n",
        "\n",
        "nt, nc, ns = np.shape(X_test_ch)\n",
        "X_test_svm = X_test_ch.reshape(nt, nc*ns)"
      ],
      "metadata": {
        "id": "8cqGC4tNWqYW"
      },
      "execution_count": null,
      "outputs": []
    },
    {
      "cell_type": "code",
      "source": [
        "lda = LinearDiscriminantAnalysis(solver='eigen', n_components=1, shrinkage=\"auto\")\n",
        "lda.fit(X_tr_svm, y_train)\n",
        "print(lda.score(X_test_svm, y_test))"
      ],
      "metadata": {
        "id": "Y6pEpLfVWqYX"
      },
      "execution_count": null,
      "outputs": []
    },
    {
      "cell_type": "markdown",
      "source": [
        "😵 YUP da mucho más bajo, es una problema bastante más dificil, no?"
      ],
      "metadata": {
        "id": "GvCryWjba8x_"
      }
    },
    {
      "cell_type": "markdown",
      "source": [
        "Veamos cómo le va a una [SVM](https://scikit-learn.org/stable/modules/generated/sklearn.svm.SVC.html). Para eso, vamos a utilizar la función SVC de la librería sklearn, con todos sus parámetros por defecto 👇"
      ],
      "metadata": {
        "id": "4xPv4jlNbHHB"
      }
    },
    {
      "cell_type": "code",
      "source": [
        "from sklearn.svm import SVC\n",
        "\n",
        "svm = SVC()\n",
        "svm.fit(X_tr_svm, y_train)\n",
        "print(svm.score(X_test_svm, y_test))"
      ],
      "metadata": {
        "id": "9e-mQz9lXBOT"
      },
      "execution_count": null,
      "outputs": []
    },
    {
      "cell_type": "markdown",
      "source": [
        "Da peor...mhmmm 🤔 ¿cuáles son los parámetros de SVM? ¿Qué valores toman por defecto?\n",
        "\n",
        "\n",
        "Debería andar aaalgo parecido al LDA si el kernel es lineal...qué pasará?"
      ],
      "metadata": {
        "id": "r4eR3nmhbVVp"
      }
    },
    {
      "cell_type": "markdown",
      "source": [
        "#### Normalización"
      ],
      "metadata": {
        "id": "w6ghlclTgWxb"
      }
    },
    {
      "cell_type": "markdown",
      "source": [
        "❗ Algo que está pasando, además de que probablemente el kernel o el parámetro de regularización pueda ser diferente y más óptimo, es que a diferencia de LDA, cuando trabajamos con máquinas de soprote vectorial necesitamos que nuestras features esten **normalizadas**. Pero qué es la normalización?"
      ],
      "metadata": {
        "id": "I300dyt7bvFQ"
      }
    },
    {
      "cell_type": "markdown",
      "source": [
        "La normalización es un proceso que le hacemos a nuestras features de modo tal que ninguna \"sea más importante que la otra\" por el solo hecho de estar medida en otra magnitud. Es como comparar que la pluma pesa más que el plomo solo por el tamaño de su bolsa!"
      ],
      "metadata": {
        "id": "izTRfsdMcTW9"
      }
    },
    {
      "cell_type": "markdown",
      "source": [
        "Una forma de estandarizar los datos es mediante lo que se denomina z-scoring. Es una transformación tal que las features tengan media cero y desvío uno (provengan de una distribución $Z-estandar$). En sklearn podemos facilmente definir un objeto que estandarice datos mediante la función [StandarScaler](https://scikit-learn.org/stable/modules/generated/sklearn.preprocessing.StandardScaler.html).\n",
        "\n",
        "Te animás a usarla en nuestros datos para la svm? 👇\n",
        "\n",
        "💡 TIP: Guardá los datos normalizados como una nueva variable (`X_tr_svm_n` y `X_test_svm_n`)"
      ],
      "metadata": {
        "id": "uoBuSCIpcm-j"
      }
    },
    {
      "cell_type": "code",
      "source": [
        "from sklearn.preprocessing import StandardScaler\n",
        "scaler = ...\n",
        "X_tr_svm_n = ...\n",
        "X_test_svm_n = ..."
      ],
      "metadata": {
        "id": "9lBUaU58Xdr9"
      },
      "execution_count": null,
      "outputs": []
    },
    {
      "cell_type": "markdown",
      "source": [
        "Ahora veamos cómo da el SVM con sus parámetros por defecto pero con datos normalizados"
      ],
      "metadata": {
        "id": "6DKd2hVrdTx2"
      }
    },
    {
      "cell_type": "code",
      "source": [
        "svm = SVC()\n",
        "svm.fit(X_tr_svm_n, y_train)\n",
        "print(svm.score(X_test_svm_n, y_test))"
      ],
      "metadata": {
        "id": "DJKBad37e_84"
      },
      "execution_count": null,
      "outputs": []
    },
    {
      "cell_type": "markdown",
      "source": [
        "😁 AHÁ! cambiooooo! Buenísimo. Pero, dá peor que LDA...mhmmm 🤔. Probá lo siguiente:\n",
        "\n",
        "1. Un SVM con kernel sigmoideo y parámetro de regularización C=10\n",
        "2. Un SVM con kernel rbf y parámetro de regularización C=0.1\n",
        "\n",
        "❓ ¿Alguno da mejor que antes?"
      ],
      "metadata": {
        "id": "FyJS6TIKdbWL"
      }
    },
    {
      "cell_type": "code",
      "source": [
        "# escribí tú código acá"
      ],
      "metadata": {
        "id": "q5hZ6jBTfIP0"
      },
      "execution_count": null,
      "outputs": []
    },
    {
      "cell_type": "code",
      "source": [
        "# escribí tú código acá"
      ],
      "metadata": {
        "id": "HtB9Y9u2d35f"
      },
      "execution_count": null,
      "outputs": []
    },
    {
      "cell_type": "markdown",
      "source": [
        "Pero habrá otra combinación mejor de hiperparámetros?. Veamos 👀"
      ],
      "metadata": {
        "id": "VcM-EscWd9ia"
      }
    },
    {
      "cell_type": "code",
      "source": [
        "# Hiperparámetros\n",
        "\n",
        "# C\n",
        "C_values = [0.01, 0.1, 0.5, 1, 5, 10, 20]\n",
        "# Kernel\n",
        "Kernels = ['linear', 'rbf', 'sigmoid']\n",
        "\n",
        "kf = StratifiedKFold(n_splits = 5)\n",
        "\n",
        "results = []\n",
        "\n",
        "for C in C_values:\n",
        "  for kernel in Kernels:\n",
        "    kfold_ac = 0\n",
        "    for train, test in kf.split(X_tr_svm, y_train):\n",
        "      #split\n",
        "      X_t, X_v, y_t, y_v = X_tr_svm[train], X_tr_svm[test], y_train[train], y_train[test]\n",
        "\n",
        "      # scaler\n",
        "      scaler = StandardScaler()\n",
        "      scaler.fit(X_t)\n",
        "      X_t = scaler.transform(X_t)\n",
        "      X_v = scaler.transform(X_v)\n",
        "\n",
        "      clasificador = SVC(C=C, kernel=kernel)\n",
        "      clasificador.fit(X_t, y_t)\n",
        "      kfold_ac += clasificador.score(X_v, y_v)\n",
        "\n",
        "    results.append([kfold_ac / 5, C, kernel])"
      ],
      "metadata": {
        "id": "HoGmPrFjXx8Y"
      },
      "execution_count": null,
      "outputs": []
    },
    {
      "cell_type": "code",
      "source": [
        "import pandas as pd\n",
        "\n",
        "# Creo una tabla con los datos\n",
        "tabla = pd.DataFrame(results, columns = [\"Acc\", \"C\", \"Kernel\"])\n",
        "# Busco la combinación con mejor accuracy\n",
        "best_id = tabla[\"Acc\"].argmax()\n",
        "tabla.iloc[best_id,:]"
      ],
      "metadata": {
        "id": "1rKagPNHp7vL"
      },
      "execution_count": null,
      "outputs": []
    },
    {
      "cell_type": "code",
      "source": [
        "print(tabla)"
      ],
      "metadata": {
        "id": "zvj-gTaxgjJm"
      },
      "execution_count": null,
      "outputs": []
    },
    {
      "cell_type": "code",
      "source": [
        "# Ahora pruebo con los datos en test\n",
        "\n",
        "clasificador = SVC(C=5, kernel=\"rbf\")\n",
        "clasificador.fit(X_tr_svm_n, y_train)\n",
        "accuracy = clasificador.score(X_test_svm_n, y_test)\n",
        "print(\"Accuracy en test con mejor combinacion\", accuracy)"
      ],
      "metadata": {
        "id": "uiFTYdyyssMR"
      },
      "execution_count": null,
      "outputs": []
    },
    {
      "cell_type": "markdown",
      "source": [
        "❓ Aparentemente no encontramos la combinación óptima para los datos de test. ¿Qué podría estar pasando? ¿Fue correcto mirar directamente en los datos de test el impacto de cambiar los hiperparámetros?"
      ],
      "metadata": {
        "id": "BK7pDMZUkL_k"
      }
    },
    {
      "cell_type": "markdown",
      "source": [
        "Por si te preguntabas, en Sklearn podemos realizar esta búsqueda por grilla utilizando la función [GridSearch](https://scikit-learn.org/stable/modules/generated/sklearn.model_selection.GridSearchCV.html#sklearn.model_selection.GridSearchCV). Te invitamos a probarla 🙂"
      ],
      "metadata": {
        "id": "wm3art5Hb3wq"
      }
    },
    {
      "cell_type": "markdown",
      "source": [
        "## Para seguir pensando..."
      ],
      "metadata": {
        "id": "OgnICPnpfCDb"
      }
    },
    {
      "cell_type": "markdown",
      "source": [
        "❓\n",
        "\n",
        "1. ¿Qué ocurriría si normalizo mis datos de validación y testeo de manera independiente a los datos de entrenamiento? Es decir, si utilizo sus propias estadísticas de cada conjunto. ¿Sería esto correcto?\n",
        "2. ¿Por qué la performance de detección de ERPs es tan baja a pesar de evaluar diferentes tipos de clasificadores? Se estará sobre-entrenando? ¿Qué tipos de errores tienen el clasificador? ¿Confunde los trials derechos con los izquierdos o los izquierdos con los derechos?\n"
      ],
      "metadata": {
        "id": "zZtGu9_afRF8"
      }
    },
    {
      "cell_type": "markdown",
      "source": [
        "1. ....\n",
        "2. ...\n"
      ],
      "metadata": {
        "id": "9A70I9ejfRMj"
      }
    },
    {
      "cell_type": "markdown",
      "metadata": {
        "id": "oDY_Z-rXu5bg"
      },
      "source": [
        "# References\n",
        "[1] Blankertz, B., Tomioka, R., Lemm, S., Kawanabe, M., & Muller, K. R. (2007). Optimizing spatial filters for robust EEG single-trial analysis. IEEE Signal processing magazine, 25(1), 41-56.\n",
        "\n",
        "[2] Ledoit, O., Wolf, M., 2004. A well-conditioned estimator for large-dimensional\n",
        "covariance matrices. J. Multivar. Anal. 88, 365–411."
      ]
    }
  ],
  "metadata": {
    "colab": {
      "provenance": []
    },
    "kernelspec": {
      "display_name": "Python 3",
      "name": "python3"
    },
    "language_info": {
      "name": "python"
    }
  },
  "nbformat": 4,
  "nbformat_minor": 0
}